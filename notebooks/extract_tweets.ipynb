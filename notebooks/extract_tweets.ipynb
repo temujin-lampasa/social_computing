{
 "cells": [
  {
   "cell_type": "markdown",
   "metadata": {
    "id": "jf0jWPeC7zTy"
   },
   "source": [
    "\n",
    "Temujin U. Lampasa\n",
    "September 9, 2021\n",
    "\n",
    "I/we certify that this submission complies with the DISCS Academic Integrity Policy.\n",
    "\n",
    "If I/we have discussed my/our Python language code with anyone other than my/our instructor(s), my/our groupmate(s), the teaching assistant(s), the extent of each discussion has been clearly noted along with a proper citation in the comments of my/our program. If any Python language code or documentation used in my/our program was obtained from another source, either modified or unmodified, such as a textbook, website, or another individual, the extent of its use has been clearly noted along with a proper citation in the comments of my/our program."
   ]
  },
  {
   "cell_type": "code",
   "execution_count": 1,
   "metadata": {
    "id": "u0COB4esnb24"
   },
   "outputs": [],
   "source": [
    "!pip -q install tweepy pandas"
   ]
  },
  {
   "cell_type": "code",
   "execution_count": 2,
   "metadata": {
    "id": "E2ryWLzOnfhY"
   },
   "outputs": [],
   "source": [
    "import tweepy\n",
    "import pandas as pd\n",
    "from dataclasses import dataclass\n",
    "from typing import List\n",
    "import os"
   ]
  },
  {
   "cell_type": "code",
   "execution_count": 3,
   "metadata": {},
   "outputs": [],
   "source": [
    "DL_PATH = \"../resources\"\n",
    "os.makedirs(DL_PATH, exist_ok=True)"
   ]
  },
  {
   "cell_type": "code",
   "execution_count": 4,
   "metadata": {
    "colab": {
     "base_uri": "https://localhost:8080/"
    },
    "id": "JGexezdinwt8",
    "outputId": "93533050-c33f-449f-fcb5-d4862e37df36"
   },
   "outputs": [
    {
     "data": {
      "text/plain": [
       "User(_api=<tweepy.api.API object at 0x10c5ea130>, _json={'id': 1435410232604184581, 'id_str': '1435410232604184581', 'name': 'aaaaaa', 'screen_name': 'aaaaaa82502990', 'location': '', 'description': '', 'url': None, 'entities': {'description': {'urls': []}}, 'protected': False, 'followers_count': 0, 'friends_count': 0, 'listed_count': 0, 'created_at': 'Wed Sep 08 01:10:53 +0000 2021', 'favourites_count': 0, 'utc_offset': None, 'time_zone': None, 'geo_enabled': False, 'verified': False, 'statuses_count': 0, 'lang': None, 'contributors_enabled': False, 'is_translator': False, 'is_translation_enabled': False, 'profile_background_color': 'F5F8FA', 'profile_background_image_url': None, 'profile_background_image_url_https': None, 'profile_background_tile': False, 'profile_image_url': 'http://abs.twimg.com/sticky/default_profile_images/default_profile_normal.png', 'profile_image_url_https': 'https://abs.twimg.com/sticky/default_profile_images/default_profile_normal.png', 'profile_link_color': '1DA1F2', 'profile_sidebar_border_color': 'C0DEED', 'profile_sidebar_fill_color': 'DDEEF6', 'profile_text_color': '333333', 'profile_use_background_image': True, 'has_extended_profile': True, 'default_profile': True, 'default_profile_image': True, 'following': False, 'follow_request_sent': False, 'notifications': False, 'translator_type': 'none', 'withheld_in_countries': [], 'suspended': False, 'needs_phone_verification': False}, id=1435410232604184581, id_str='1435410232604184581', name='aaaaaa', screen_name='aaaaaa82502990', location='', description='', url=None, entities={'description': {'urls': []}}, protected=False, followers_count=0, friends_count=0, listed_count=0, created_at=datetime.datetime(2021, 9, 8, 1, 10, 53), favourites_count=0, utc_offset=None, time_zone=None, geo_enabled=False, verified=False, statuses_count=0, lang=None, contributors_enabled=False, is_translator=False, is_translation_enabled=False, profile_background_color='F5F8FA', profile_background_image_url=None, profile_background_image_url_https=None, profile_background_tile=False, profile_image_url='http://abs.twimg.com/sticky/default_profile_images/default_profile_normal.png', profile_image_url_https='https://abs.twimg.com/sticky/default_profile_images/default_profile_normal.png', profile_link_color='1DA1F2', profile_sidebar_border_color='C0DEED', profile_sidebar_fill_color='DDEEF6', profile_text_color='333333', profile_use_background_image=True, has_extended_profile=True, default_profile=True, default_profile_image=True, following=False, follow_request_sent=False, notifications=False, translator_type='none', withheld_in_countries=[], suspended=False, needs_phone_verification=False)"
      ]
     },
     "execution_count": 4,
     "metadata": {},
     "output_type": "execute_result"
    }
   ],
   "source": [
    "CONSUMER_KEY = ''\n",
    "CONSUMER_SECRET = ''\n",
    "ACCESS_TOKEN = ''\n",
    "ACCESS_TOKEN_SECRET = ''\n",
    "\n",
    "auth = tweepy.OAuthHandler(CONSUMER_KEY, CONSUMER_SECRET)\n",
    "auth.set_access_token(ACCESS_TOKEN, ACCESS_TOKEN_SECRET)\n",
    "\n",
    "api = tweepy.API(auth)\n",
    "api.verify_credentials()"
   ]
  },
  {
   "cell_type": "markdown",
   "metadata": {
    "id": "cC0plrtuzRO4"
   },
   "source": [
    "Get date, text, twitter handle"
   ]
  },
  {
   "cell_type": "code",
   "execution_count": 5,
   "metadata": {},
   "outputs": [],
   "source": [
    "@dataclass\n",
    "class Tweet:\n",
    "    date: str\n",
    "    handle: str\n",
    "    text: str"
   ]
  },
  {
   "cell_type": "code",
   "execution_count": 6,
   "metadata": {},
   "outputs": [],
   "source": [
    "def scrape_tweets(keywords: list, num_tweets: int)->list:\n",
    "    tweets_found = []\n",
    "    for status in tweepy.Cursor(api.search, q=keywords, lang=\"en\", tweet_mode='extended').items(num_tweets):\n",
    "        \n",
    "        # Get Tweet fields from status\n",
    "        s = status._json\n",
    "        date = s.get('created_at')\n",
    "        handle = s.get('user', {}).get('screen_name')\n",
    "        text = s.get('full_text')\n",
    "        \n",
    "        tweets_found.append(Tweet(date=date, handle=handle, text=text))\n",
    "    return tweets_found"
   ]
  },
  {
   "cell_type": "code",
   "execution_count": 7,
   "metadata": {},
   "outputs": [],
   "source": [
    "scraped_tweets = scrape_tweets(['blizzard'], 10)"
   ]
  },
  {
   "cell_type": "code",
   "execution_count": 8,
   "metadata": {},
   "outputs": [
    {
     "data": {
      "text/html": [
       "<div>\n",
       "<style scoped>\n",
       "    .dataframe tbody tr th:only-of-type {\n",
       "        vertical-align: middle;\n",
       "    }\n",
       "\n",
       "    .dataframe tbody tr th {\n",
       "        vertical-align: top;\n",
       "    }\n",
       "\n",
       "    .dataframe thead th {\n",
       "        text-align: right;\n",
       "    }\n",
       "</style>\n",
       "<table border=\"1\" class=\"dataframe\">\n",
       "  <thead>\n",
       "    <tr style=\"text-align: right;\">\n",
       "      <th></th>\n",
       "      <th>date</th>\n",
       "      <th>handle</th>\n",
       "      <th>text</th>\n",
       "    </tr>\n",
       "  </thead>\n",
       "  <tbody>\n",
       "    <tr>\n",
       "      <th>0</th>\n",
       "      <td>Fri Oct 08 10:50:59 +0000 2021</td>\n",
       "      <td>duke_unreal</td>\n",
       "      <td>RT @JRobnson: @DSACostanza &amp;gt;Ex blizzard. ht...</td>\n",
       "    </tr>\n",
       "    <tr>\n",
       "      <th>1</th>\n",
       "      <td>Fri Oct 08 10:50:31 +0000 2021</td>\n",
       "      <td>RussellBoyce1</td>\n",
       "      <td>RT @alfbridge43: @ZBankEnt @RussellBoyce1 My w...</td>\n",
       "    </tr>\n",
       "    <tr>\n",
       "      <th>2</th>\n",
       "      <td>Fri Oct 08 10:50:02 +0000 2021</td>\n",
       "      <td>Anna97659370</td>\n",
       "      <td>RT @LambySeriesGG: Courtesy of Blizzard i have...</td>\n",
       "    </tr>\n",
       "    <tr>\n",
       "      <th>3</th>\n",
       "      <td>Fri Oct 08 10:49:48 +0000 2021</td>\n",
       "      <td>Opuculus</td>\n",
       "      <td>RT @Vahn16: if I was \"committed to making acti...</td>\n",
       "    </tr>\n",
       "    <tr>\n",
       "      <th>4</th>\n",
       "      <td>Fri Oct 08 10:49:09 +0000 2021</td>\n",
       "      <td>antonybearpark</td>\n",
       "      <td>#INKTOBER DAY 8: WATCH\\n- - -\\n#inktober2021 #...</td>\n",
       "    </tr>\n",
       "    <tr>\n",
       "      <th>...</th>\n",
       "      <td>...</td>\n",
       "      <td>...</td>\n",
       "      <td>...</td>\n",
       "    </tr>\n",
       "    <tr>\n",
       "      <th>495</th>\n",
       "      <td>Fri Oct 08 06:14:07 +0000 2021</td>\n",
       "      <td>dotoro_3</td>\n",
       "      <td>RT @Vahn16: if I was \"committed to making acti...</td>\n",
       "    </tr>\n",
       "    <tr>\n",
       "      <th>496</th>\n",
       "      <td>Fri Oct 08 06:13:42 +0000 2021</td>\n",
       "      <td>TheAlceste</td>\n",
       "      <td>RT @Vahn16: if I was \"committed to making acti...</td>\n",
       "    </tr>\n",
       "    <tr>\n",
       "      <th>497</th>\n",
       "      <td>Fri Oct 08 06:12:30 +0000 2021</td>\n",
       "      <td>Graemeelliott1</td>\n",
       "      <td>@Darkladycosplay @Warcraft @Blizzard_Ent Genui...</td>\n",
       "    </tr>\n",
       "    <tr>\n",
       "      <th>498</th>\n",
       "      <td>Fri Oct 08 06:12:10 +0000 2021</td>\n",
       "      <td>Hitsugi_Hime</td>\n",
       "      <td>@chipfranklin Home Depot, Apple, Blizzard Acti...</td>\n",
       "    </tr>\n",
       "    <tr>\n",
       "      <th>499</th>\n",
       "      <td>Fri Oct 08 06:12:02 +0000 2021</td>\n",
       "      <td>_BarbUnicorn</td>\n",
       "      <td>RT @theabigailbeck: Stop playing Activision Bl...</td>\n",
       "    </tr>\n",
       "  </tbody>\n",
       "</table>\n",
       "<p>500 rows × 3 columns</p>\n",
       "</div>"
      ],
      "text/plain": [
       "                               date          handle  \\\n",
       "0    Fri Oct 08 10:50:59 +0000 2021     duke_unreal   \n",
       "1    Fri Oct 08 10:50:31 +0000 2021   RussellBoyce1   \n",
       "2    Fri Oct 08 10:50:02 +0000 2021    Anna97659370   \n",
       "3    Fri Oct 08 10:49:48 +0000 2021        Opuculus   \n",
       "4    Fri Oct 08 10:49:09 +0000 2021  antonybearpark   \n",
       "..                              ...             ...   \n",
       "495  Fri Oct 08 06:14:07 +0000 2021        dotoro_3   \n",
       "496  Fri Oct 08 06:13:42 +0000 2021      TheAlceste   \n",
       "497  Fri Oct 08 06:12:30 +0000 2021  Graemeelliott1   \n",
       "498  Fri Oct 08 06:12:10 +0000 2021    Hitsugi_Hime   \n",
       "499  Fri Oct 08 06:12:02 +0000 2021    _BarbUnicorn   \n",
       "\n",
       "                                                  text  \n",
       "0    RT @JRobnson: @DSACostanza &gt;Ex blizzard. ht...  \n",
       "1    RT @alfbridge43: @ZBankEnt @RussellBoyce1 My w...  \n",
       "2    RT @LambySeriesGG: Courtesy of Blizzard i have...  \n",
       "3    RT @Vahn16: if I was \"committed to making acti...  \n",
       "4    #INKTOBER DAY 8: WATCH\\n- - -\\n#inktober2021 #...  \n",
       "..                                                 ...  \n",
       "495  RT @Vahn16: if I was \"committed to making acti...  \n",
       "496  RT @Vahn16: if I was \"committed to making acti...  \n",
       "497  @Darkladycosplay @Warcraft @Blizzard_Ent Genui...  \n",
       "498  @chipfranklin Home Depot, Apple, Blizzard Acti...  \n",
       "499  RT @theabigailbeck: Stop playing Activision Bl...  \n",
       "\n",
       "[500 rows x 3 columns]"
      ]
     },
     "execution_count": 8,
     "metadata": {},
     "output_type": "execute_result"
    }
   ],
   "source": [
    "scraped_tweets = scrape_tweets(['blizzard'], 500)\n",
    "\n",
    "# Create a dataframe from the scraped tweets\n",
    "df = pd.DataFrame([t.__dict__ for t in scraped_tweets])\n",
    "df"
   ]
  },
  {
   "cell_type": "code",
   "execution_count": 10,
   "metadata": {
    "id": "yKK67MOBzi5U"
   },
   "outputs": [],
   "source": [
    "# Save to file\n",
    "df.to_csv(os.path.join(DL_PATH, \"tweets.csv\"), sep=\"|\", index=False)"
   ]
  }
 ],
 "metadata": {
  "colab": {
   "collapsed_sections": [],
   "name": "Untitled0.ipynb",
   "provenance": []
  },
  "kernelspec": {
   "display_name": "Python 3",
   "language": "python",
   "name": "python3"
  },
  "language_info": {
   "codemirror_mode": {
    "name": "ipython",
    "version": 3
   },
   "file_extension": ".py",
   "mimetype": "text/x-python",
   "name": "python",
   "nbconvert_exporter": "python",
   "pygments_lexer": "ipython3",
   "version": "3.8.5"
  }
 },
 "nbformat": 4,
 "nbformat_minor": 1
}
