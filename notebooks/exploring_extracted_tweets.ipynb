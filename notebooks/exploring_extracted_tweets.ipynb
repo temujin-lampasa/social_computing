{
 "cells": [
  {
   "cell_type": "markdown",
   "id": "limited-comparison",
   "metadata": {
    "id": "jf0jWPeC7zTy"
   },
   "source": [
    "\n",
    "Temujin U. Lampasa\n",
    "October 8, 2021\n",
    "\n",
    "I/we certify that this submission complies with the DISCS Academic Integrity Policy.\n",
    "\n",
    "If I/we have discussed my/our Python language code with anyone other than my/our instructor(s), my/our groupmate(s), the teaching assistant(s), the extent of each discussion has been clearly noted along with a proper citation in the comments of my/our program. If any Python language code or documentation used in my/our program was obtained from another source, either modified or unmodified, such as a textbook, website, or another individual, the extent of its use has been clearly noted along with a proper citation in the comments of my/our program."
   ]
  },
  {
   "cell_type": "markdown",
   "id": "relevant-creator",
   "metadata": {},
   "source": [
    "# Quiz/Hands-on: Exploring extracted tweets"
   ]
  },
  {
   "cell_type": "markdown",
   "id": "instructional-bhutan",
   "metadata": {},
   "source": [
    "**Note:** Although the quiz directions indicate to use the previously extracted tweets, I found them to be unsuitable for this activity, as there were not enough data points and it was of a boring topic. Instead, I have rewritten the extract_tweets notebook and scraped 500 tweets from a different topic. The notebook can be found here: https://github.com/temujin-lampasa/social_computing/blob/main/notebooks/extract_tweets.ipynb\n"
   ]
  },
  {
   "cell_type": "code",
   "execution_count": 114,
   "id": "metric-transformation",
   "metadata": {},
   "outputs": [
    {
     "name": "stdout",
     "output_type": "stream",
     "text": [
      "/Users/TL/.pyenv/versions/3.8.5/bin/python: No module named -q\r\n"
     ]
    }
   ],
   "source": [
    "!pip install -q pandas numpy\n",
    "!python -m -q spacy download en_core_web_sm"
   ]
  },
  {
   "cell_type": "code",
   "execution_count": 115,
   "id": "modular-legislature",
   "metadata": {},
   "outputs": [],
   "source": [
    "# Imports\n",
    "import pandas as pd\n",
    "import numpy as np\n",
    "import spacy\n",
    "from nltk.corpus import stopwords\n",
    "import re\n",
    "import os"
   ]
  },
  {
   "cell_type": "code",
   "execution_count": 116,
   "id": "silent-belly",
   "metadata": {},
   "outputs": [
    {
     "name": "stderr",
     "output_type": "stream",
     "text": [
      "[nltk_data] Downloading package stopwords to /Users/TL/nltk_data...\n",
      "[nltk_data]   Package stopwords is already up-to-date!\n"
     ]
    },
    {
     "data": {
      "text/plain": [
       "True"
      ]
     },
     "execution_count": 116,
     "metadata": {},
     "output_type": "execute_result"
    }
   ],
   "source": [
    "nltk.download('stopwords')"
   ]
  },
  {
   "cell_type": "code",
   "execution_count": 117,
   "id": "noted-burke",
   "metadata": {},
   "outputs": [
    {
     "data": {
      "text/html": [
       "<div>\n",
       "<style scoped>\n",
       "    .dataframe tbody tr th:only-of-type {\n",
       "        vertical-align: middle;\n",
       "    }\n",
       "\n",
       "    .dataframe tbody tr th {\n",
       "        vertical-align: top;\n",
       "    }\n",
       "\n",
       "    .dataframe thead th {\n",
       "        text-align: right;\n",
       "    }\n",
       "</style>\n",
       "<table border=\"1\" class=\"dataframe\">\n",
       "  <thead>\n",
       "    <tr style=\"text-align: right;\">\n",
       "      <th></th>\n",
       "      <th>date</th>\n",
       "      <th>handle</th>\n",
       "      <th>text</th>\n",
       "    </tr>\n",
       "  </thead>\n",
       "  <tbody>\n",
       "    <tr>\n",
       "      <th>0</th>\n",
       "      <td>Fri Oct 08 12:15:32 +0000 2021</td>\n",
       "      <td>DakotaDW_</td>\n",
       "      <td>RT @Vahn16: if I was \"committed to making acti...</td>\n",
       "    </tr>\n",
       "    <tr>\n",
       "      <th>1</th>\n",
       "      <td>Fri Oct 08 12:15:15 +0000 2021</td>\n",
       "      <td>ACanadianHorse</td>\n",
       "      <td>RT @Kotaku: California steps in to prevent Act...</td>\n",
       "    </tr>\n",
       "    <tr>\n",
       "      <th>2</th>\n",
       "      <td>Fri Oct 08 12:15:07 +0000 2021</td>\n",
       "      <td>CHFHope</td>\n",
       "      <td>Which of these flavours is your fave? \\nShare ...</td>\n",
       "    </tr>\n",
       "    <tr>\n",
       "      <th>3</th>\n",
       "      <td>Fri Oct 08 12:14:46 +0000 2021</td>\n",
       "      <td>ItsOasus</td>\n",
       "      <td>RT @Kotaku: California steps in to prevent Act...</td>\n",
       "    </tr>\n",
       "    <tr>\n",
       "      <th>4</th>\n",
       "      <td>Fri Oct 08 12:14:37 +0000 2021</td>\n",
       "      <td>ali18pot</td>\n",
       "      <td>RT @dk_deters: CHRISTMAS ONCE AGAIN\\nA missing...</td>\n",
       "    </tr>\n",
       "    <tr>\n",
       "      <th>...</th>\n",
       "      <td>...</td>\n",
       "      <td>...</td>\n",
       "      <td>...</td>\n",
       "    </tr>\n",
       "    <tr>\n",
       "      <th>495</th>\n",
       "      <td>Fri Oct 08 08:11:48 +0000 2021</td>\n",
       "      <td>Stubborn_Tort</td>\n",
       "      <td>RT @Vahn16: if I was \"committed to making acti...</td>\n",
       "    </tr>\n",
       "    <tr>\n",
       "      <th>496</th>\n",
       "      <td>Fri Oct 08 08:11:26 +0000 2021</td>\n",
       "      <td>sguedex</td>\n",
       "      <td>RT @Vahn16: if I was \"committed to making acti...</td>\n",
       "    </tr>\n",
       "    <tr>\n",
       "      <th>497</th>\n",
       "      <td>Fri Oct 08 08:11:18 +0000 2021</td>\n",
       "      <td>y0ungsean</td>\n",
       "      <td>Taking a hobbit through a blizzard with ⁦@vala...</td>\n",
       "    </tr>\n",
       "    <tr>\n",
       "      <th>498</th>\n",
       "      <td>Fri Oct 08 08:11:07 +0000 2021</td>\n",
       "      <td>JayromeMarzan</td>\n",
       "      <td>RT @LambySeriesGG: Courtesy of Blizzard i have...</td>\n",
       "    </tr>\n",
       "    <tr>\n",
       "      <th>499</th>\n",
       "      <td>Fri Oct 08 08:10:20 +0000 2021</td>\n",
       "      <td>TransGirlAbbie</td>\n",
       "      <td>RT @Vahn16: if I was \"committed to making acti...</td>\n",
       "    </tr>\n",
       "  </tbody>\n",
       "</table>\n",
       "<p>500 rows × 3 columns</p>\n",
       "</div>"
      ],
      "text/plain": [
       "                               date          handle  \\\n",
       "0    Fri Oct 08 12:15:32 +0000 2021       DakotaDW_   \n",
       "1    Fri Oct 08 12:15:15 +0000 2021  ACanadianHorse   \n",
       "2    Fri Oct 08 12:15:07 +0000 2021         CHFHope   \n",
       "3    Fri Oct 08 12:14:46 +0000 2021        ItsOasus   \n",
       "4    Fri Oct 08 12:14:37 +0000 2021        ali18pot   \n",
       "..                              ...             ...   \n",
       "495  Fri Oct 08 08:11:48 +0000 2021   Stubborn_Tort   \n",
       "496  Fri Oct 08 08:11:26 +0000 2021         sguedex   \n",
       "497  Fri Oct 08 08:11:18 +0000 2021       y0ungsean   \n",
       "498  Fri Oct 08 08:11:07 +0000 2021   JayromeMarzan   \n",
       "499  Fri Oct 08 08:10:20 +0000 2021  TransGirlAbbie   \n",
       "\n",
       "                                                  text  \n",
       "0    RT @Vahn16: if I was \"committed to making acti...  \n",
       "1    RT @Kotaku: California steps in to prevent Act...  \n",
       "2    Which of these flavours is your fave? \\nShare ...  \n",
       "3    RT @Kotaku: California steps in to prevent Act...  \n",
       "4    RT @dk_deters: CHRISTMAS ONCE AGAIN\\nA missing...  \n",
       "..                                                 ...  \n",
       "495  RT @Vahn16: if I was \"committed to making acti...  \n",
       "496  RT @Vahn16: if I was \"committed to making acti...  \n",
       "497  Taking a hobbit through a blizzard with ⁦@vala...  \n",
       "498  RT @LambySeriesGG: Courtesy of Blizzard i have...  \n",
       "499  RT @Vahn16: if I was \"committed to making acti...  \n",
       "\n",
       "[500 rows x 3 columns]"
      ]
     },
     "execution_count": 117,
     "metadata": {},
     "output_type": "execute_result"
    }
   ],
   "source": [
    "# Open tweets csv\n",
    "df = pd.read_csv(\"../resources/tweets.csv\", sep=\"|\")\n",
    "df"
   ]
  },
  {
   "cell_type": "markdown",
   "id": "preliminary-target",
   "metadata": {},
   "source": [
    "## Prepare and Clean Corpus"
   ]
  },
  {
   "cell_type": "code",
   "execution_count": 145,
   "id": "electric-military",
   "metadata": {},
   "outputs": [],
   "source": [
    "nlp = spacy.load(\"en_core_web_sm\", disable=['parser', 'ner'])"
   ]
  },
  {
   "cell_type": "code",
   "execution_count": 146,
   "id": "contemporary-mills",
   "metadata": {},
   "outputs": [],
   "source": [
    "# Get list of stopwords\n",
    "stop = set(stopwords.words('english'))\n",
    "\n",
    "# Add interjections like uhh, fuck\n",
    "stop.update(['fuck', 'fucking'])\n",
    "stop.update([f\"u{'h'*i}\" for i in range(10)])"
   ]
  },
  {
   "cell_type": "code",
   "execution_count": 238,
   "id": "statutory-flower",
   "metadata": {},
   "outputs": [],
   "source": [
    "def clean_text(text: str, nlp: spacy.lang.en.English)->str:    \n",
    "    \n",
    "    # Remove leading and trailing whitespaces\n",
    "    text = text.strip()\n",
    "    \n",
    "    # Lowercase\n",
    "    text = text.lower()\n",
    "    \n",
    "    # Remove twitter handles\n",
    "    text = re.sub('@[\\w\\d]+', '', text)\n",
    "    \n",
    "    # Tokenize and Lemmatize\n",
    "    doc = nlp(text)\n",
    "    \n",
    "    # Build new string from processed tokens\n",
    "    result_string = \"\"\n",
    "    \n",
    "    for token in doc:\n",
    "        # Remove stopwords\n",
    "        if token.text in stop:\n",
    "            continue\n",
    "        \n",
    "        word = token.lemma_\n",
    "    \n",
    "        # Remove any special characters for each word\n",
    "        word = re.sub('[^A-Za-z0-9\\.]+', '', word)\n",
    "    \n",
    "        # Remove consecutive whitespaces\n",
    "        # (they may have formed after the previous transformations)\n",
    "        word  = re.sub('\\s+', ' ', word)\n",
    "        \n",
    "        # Add to resulting string\n",
    "        if not word:\n",
    "            continue\n",
    "        \n",
    "        if word != \".\" and len(result_string)!=0:\n",
    "            result_string += \" \" + word\n",
    "        else:\n",
    "            result_string += word\n",
    "            \n",
    "    return result_string\n",
    "    \n",
    "\n",
    "def clean_df(df: pd.DataFrame) -> pd.DataFrame:\n",
    "    if not isinstance(df, pd.DataFrame):\n",
    "        raise TypeError(f\"Error: df must be of type pd.DataFrame.\")\n",
    "        \n",
    "    cleaned_df = df.copy()\n",
    "        \n",
    "    # Remove blank tweets\n",
    "    cleaned_df['text'].replace(\"\", np.nan, inplace=True)\n",
    "    cleaned_df.dropna(subset=['text'], inplace=True)\n",
    "    cleaned_df['text'] = df['text'].apply(lambda x: clean_text(x, nlp))\n",
    "    \n",
    "    return cleaned_df"
   ]
  },
  {
   "cell_type": "code",
   "execution_count": 245,
   "id": "hidden-sympathy",
   "metadata": {},
   "outputs": [
    {
     "data": {
      "text/plain": [
       "'tweet. many like. one mine.'"
      ]
     },
     "execution_count": 245,
     "metadata": {},
     "output_type": "execute_result"
    }
   ],
   "source": [
    "# Test\n",
    "test_text = \"      @jeff @jeffrey @jeffreys This is my tweet. There are many like it. But this one is mine. \"\n",
    "clean_text(test_text, nlp)"
   ]
  },
  {
   "cell_type": "code",
   "execution_count": 244,
   "id": "charitable-standing",
   "metadata": {},
   "outputs": [
    {
     "data": {
      "text/html": [
       "<div>\n",
       "<style scoped>\n",
       "    .dataframe tbody tr th:only-of-type {\n",
       "        vertical-align: middle;\n",
       "    }\n",
       "\n",
       "    .dataframe tbody tr th {\n",
       "        vertical-align: top;\n",
       "    }\n",
       "\n",
       "    .dataframe thead th {\n",
       "        text-align: right;\n",
       "    }\n",
       "</style>\n",
       "<table border=\"1\" class=\"dataframe\">\n",
       "  <thead>\n",
       "    <tr style=\"text-align: right;\">\n",
       "      <th></th>\n",
       "      <th>date</th>\n",
       "      <th>handle</th>\n",
       "      <th>text</th>\n",
       "    </tr>\n",
       "  </thead>\n",
       "  <tbody>\n",
       "    <tr>\n",
       "      <th>0</th>\n",
       "      <td>Fri Oct 08 12:15:32 +0000 2021</td>\n",
       "      <td>DakotaDW_</td>\n",
       "      <td>rt commit make activision blizzard welcoming i...</td>\n",
       "    </tr>\n",
       "    <tr>\n",
       "      <th>1</th>\n",
       "      <td>Fri Oct 08 12:15:15 +0000 2021</td>\n",
       "      <td>ACanadianHorse</td>\n",
       "      <td>rt california step prevent activision blizzard...</td>\n",
       "    </tr>\n",
       "    <tr>\n",
       "      <th>2</th>\n",
       "      <td>Fri Oct 08 12:15:07 +0000 2021</td>\n",
       "      <td>CHFHope</td>\n",
       "      <td>flavour fave share blizzard treat friend famil...</td>\n",
       "    </tr>\n",
       "    <tr>\n",
       "      <th>3</th>\n",
       "      <td>Fri Oct 08 12:14:46 +0000 2021</td>\n",
       "      <td>ItsOasus</td>\n",
       "      <td>rt california step prevent activision blizzard...</td>\n",
       "    </tr>\n",
       "    <tr>\n",
       "      <th>4</th>\n",
       "      <td>Fri Oct 08 12:14:37 +0000 2021</td>\n",
       "      <td>ali18pot</td>\n",
       "      <td>rt christmas miss painting christmas blizzard ...</td>\n",
       "    </tr>\n",
       "    <tr>\n",
       "      <th>...</th>\n",
       "      <td>...</td>\n",
       "      <td>...</td>\n",
       "      <td>...</td>\n",
       "    </tr>\n",
       "    <tr>\n",
       "      <th>495</th>\n",
       "      <td>Fri Oct 08 08:11:48 +0000 2021</td>\n",
       "      <td>Stubborn_Tort</td>\n",
       "      <td>rt commit make activision blizzard welcoming i...</td>\n",
       "    </tr>\n",
       "    <tr>\n",
       "      <th>496</th>\n",
       "      <td>Fri Oct 08 08:11:26 +0000 2021</td>\n",
       "      <td>sguedex</td>\n",
       "      <td>rt commit make activision blizzard welcoming i...</td>\n",
       "    </tr>\n",
       "    <tr>\n",
       "      <th>497</th>\n",
       "      <td>Fri Oct 08 08:11:18 +0000 2021</td>\n",
       "      <td>y0ungsean</td>\n",
       "      <td>take hobbit blizzard check eng evernight unsch...</td>\n",
       "    </tr>\n",
       "    <tr>\n",
       "      <th>498</th>\n",
       "      <td>Fri Oct 08 08:11:07 +0000 2021</td>\n",
       "      <td>JayromeMarzan</td>\n",
       "      <td>rt courtesy blizzard 3 lich king 3 diablo merc...</td>\n",
       "    </tr>\n",
       "    <tr>\n",
       "      <th>499</th>\n",
       "      <td>Fri Oct 08 08:10:20 +0000 2021</td>\n",
       "      <td>TransGirlAbbie</td>\n",
       "      <td>rt commit make activision blizzard welcoming i...</td>\n",
       "    </tr>\n",
       "  </tbody>\n",
       "</table>\n",
       "<p>500 rows × 3 columns</p>\n",
       "</div>"
      ],
      "text/plain": [
       "                               date          handle  \\\n",
       "0    Fri Oct 08 12:15:32 +0000 2021       DakotaDW_   \n",
       "1    Fri Oct 08 12:15:15 +0000 2021  ACanadianHorse   \n",
       "2    Fri Oct 08 12:15:07 +0000 2021         CHFHope   \n",
       "3    Fri Oct 08 12:14:46 +0000 2021        ItsOasus   \n",
       "4    Fri Oct 08 12:14:37 +0000 2021        ali18pot   \n",
       "..                              ...             ...   \n",
       "495  Fri Oct 08 08:11:48 +0000 2021   Stubborn_Tort   \n",
       "496  Fri Oct 08 08:11:26 +0000 2021         sguedex   \n",
       "497  Fri Oct 08 08:11:18 +0000 2021       y0ungsean   \n",
       "498  Fri Oct 08 08:11:07 +0000 2021   JayromeMarzan   \n",
       "499  Fri Oct 08 08:10:20 +0000 2021  TransGirlAbbie   \n",
       "\n",
       "                                                  text  \n",
       "0    rt commit make activision blizzard welcoming i...  \n",
       "1    rt california step prevent activision blizzard...  \n",
       "2    flavour fave share blizzard treat friend famil...  \n",
       "3    rt california step prevent activision blizzard...  \n",
       "4    rt christmas miss painting christmas blizzard ...  \n",
       "..                                                 ...  \n",
       "495  rt commit make activision blizzard welcoming i...  \n",
       "496  rt commit make activision blizzard welcoming i...  \n",
       "497  take hobbit blizzard check eng evernight unsch...  \n",
       "498  rt courtesy blizzard 3 lich king 3 diablo merc...  \n",
       "499  rt commit make activision blizzard welcoming i...  \n",
       "\n",
       "[500 rows x 3 columns]"
      ]
     },
     "execution_count": 244,
     "metadata": {},
     "output_type": "execute_result"
    }
   ],
   "source": [
    "cleaned_df = clean_df(df)\n",
    "cleaned_df"
   ]
  },
  {
   "cell_type": "code",
   "execution_count": null,
   "id": "meaningful-pressure",
   "metadata": {},
   "outputs": [],
   "source": []
  }
 ],
 "metadata": {
  "kernelspec": {
   "display_name": "Python 3",
   "language": "python",
   "name": "python3"
  },
  "language_info": {
   "codemirror_mode": {
    "name": "ipython",
    "version": 3
   },
   "file_extension": ".py",
   "mimetype": "text/x-python",
   "name": "python",
   "nbconvert_exporter": "python",
   "pygments_lexer": "ipython3",
   "version": "3.8.5"
  }
 },
 "nbformat": 4,
 "nbformat_minor": 5
}
