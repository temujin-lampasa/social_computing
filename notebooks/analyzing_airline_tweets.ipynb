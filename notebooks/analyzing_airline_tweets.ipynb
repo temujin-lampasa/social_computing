{
 "cells": [
  {
   "cell_type": "markdown",
   "id": "verified-sender",
   "metadata": {},
   "source": [
    "# Quiz/Hands-on: Analyzing airline tweets using NLP"
   ]
  },
  {
   "cell_type": "markdown",
   "id": "valuable-feeling",
   "metadata": {},
   "source": [
    "## Imports"
   ]
  },
  {
   "cell_type": "code",
   "execution_count": 19,
   "id": "floppy-formation",
   "metadata": {},
   "outputs": [],
   "source": [
    "from typing import List\n",
    "import pandas as pd\n",
    "import re\n",
    "\n",
    "from matplotlib import pyplot as plt\n",
    "from datetime import datetime"
   ]
  },
  {
   "cell_type": "code",
   "execution_count": 22,
   "id": "opened-collector",
   "metadata": {},
   "outputs": [
    {
     "name": "stderr",
     "output_type": "stream",
     "text": [
      "[nltk_data] Downloading package stopwords to /Users/TL/nltk_data...\n",
      "[nltk_data]   Package stopwords is already up-to-date!\n"
     ]
    }
   ],
   "source": [
    "import nltk\n",
    "nltk.download('stopwords')\n",
    "from nltk.corpus import stopwords"
   ]
  },
  {
   "cell_type": "markdown",
   "id": "finnish-marble",
   "metadata": {},
   "source": [
    "## Load Data"
   ]
  },
  {
   "cell_type": "code",
   "execution_count": 2,
   "id": "certified-child",
   "metadata": {},
   "outputs": [
    {
     "data": {
      "text/html": [
       "<div>\n",
       "<style scoped>\n",
       "    .dataframe tbody tr th:only-of-type {\n",
       "        vertical-align: middle;\n",
       "    }\n",
       "\n",
       "    .dataframe tbody tr th {\n",
       "        vertical-align: top;\n",
       "    }\n",
       "\n",
       "    .dataframe thead th {\n",
       "        text-align: right;\n",
       "    }\n",
       "</style>\n",
       "<table border=\"1\" class=\"dataframe\">\n",
       "  <thead>\n",
       "    <tr style=\"text-align: right;\">\n",
       "      <th></th>\n",
       "      <th>tweet_id</th>\n",
       "      <th>airline</th>\n",
       "      <th>handle</th>\n",
       "      <th>text</th>\n",
       "      <th>tweet_created</th>\n",
       "      <th>user_timezone</th>\n",
       "    </tr>\n",
       "  </thead>\n",
       "  <tbody>\n",
       "    <tr>\n",
       "      <th>0</th>\n",
       "      <td>570306133677760000</td>\n",
       "      <td>Virgin America</td>\n",
       "      <td>cairdin</td>\n",
       "      <td>@VirginAmerica What @dhepburn said.</td>\n",
       "      <td>2/24/15 11:35</td>\n",
       "      <td>Eastern Time (US &amp; Canada)</td>\n",
       "    </tr>\n",
       "    <tr>\n",
       "      <th>1</th>\n",
       "      <td>570301130888122000</td>\n",
       "      <td>Virgin America</td>\n",
       "      <td>jnardino</td>\n",
       "      <td>@VirginAmerica plus you've added commercials t...</td>\n",
       "      <td>2/24/15 11:15</td>\n",
       "      <td>Pacific Time (US &amp; Canada)</td>\n",
       "    </tr>\n",
       "    <tr>\n",
       "      <th>2</th>\n",
       "      <td>570301083672813000</td>\n",
       "      <td>Virgin America</td>\n",
       "      <td>yvonnalynn</td>\n",
       "      <td>@VirginAmerica I didn't today... Must mean I n...</td>\n",
       "      <td>2/24/15 11:15</td>\n",
       "      <td>Central Time (US &amp; Canada)</td>\n",
       "    </tr>\n",
       "    <tr>\n",
       "      <th>3</th>\n",
       "      <td>570301031407624000</td>\n",
       "      <td>Virgin America</td>\n",
       "      <td>jnardino</td>\n",
       "      <td>@VirginAmerica it's really aggressive to blast...</td>\n",
       "      <td>2/24/15 11:15</td>\n",
       "      <td>Pacific Time (US &amp; Canada)</td>\n",
       "    </tr>\n",
       "    <tr>\n",
       "      <th>4</th>\n",
       "      <td>570300817074462000</td>\n",
       "      <td>Virgin America</td>\n",
       "      <td>jnardino</td>\n",
       "      <td>@VirginAmerica and it's a really big bad thing...</td>\n",
       "      <td>2/24/15 11:14</td>\n",
       "      <td>Pacific Time (US &amp; Canada)</td>\n",
       "    </tr>\n",
       "    <tr>\n",
       "      <th>...</th>\n",
       "      <td>...</td>\n",
       "      <td>...</td>\n",
       "      <td>...</td>\n",
       "      <td>...</td>\n",
       "      <td>...</td>\n",
       "      <td>...</td>\n",
       "    </tr>\n",
       "    <tr>\n",
       "      <th>14635</th>\n",
       "      <td>569587686496825000</td>\n",
       "      <td>American</td>\n",
       "      <td>KristenReenders</td>\n",
       "      <td>@AmericanAir thank you we got on a different f...</td>\n",
       "      <td>2/22/15 12:01</td>\n",
       "      <td>NaN</td>\n",
       "    </tr>\n",
       "    <tr>\n",
       "      <th>14636</th>\n",
       "      <td>569587371693355000</td>\n",
       "      <td>American</td>\n",
       "      <td>itsropes</td>\n",
       "      <td>@AmericanAir leaving over 20 minutes Late Flig...</td>\n",
       "      <td>2/22/15 11:59</td>\n",
       "      <td>NaN</td>\n",
       "    </tr>\n",
       "    <tr>\n",
       "      <th>14637</th>\n",
       "      <td>569587242672398000</td>\n",
       "      <td>American</td>\n",
       "      <td>sanyabun</td>\n",
       "      <td>@AmericanAir Please bring American Airlines to...</td>\n",
       "      <td>2/22/15 11:59</td>\n",
       "      <td>NaN</td>\n",
       "    </tr>\n",
       "    <tr>\n",
       "      <th>14638</th>\n",
       "      <td>569587188687634000</td>\n",
       "      <td>American</td>\n",
       "      <td>SraJackson</td>\n",
       "      <td>@AmericanAir you have my money, you change my ...</td>\n",
       "      <td>2/22/15 11:59</td>\n",
       "      <td>Eastern Time (US &amp; Canada)</td>\n",
       "    </tr>\n",
       "    <tr>\n",
       "      <th>14639</th>\n",
       "      <td>569587140490866000</td>\n",
       "      <td>American</td>\n",
       "      <td>daviddtwu</td>\n",
       "      <td>@AmericanAir we have 8 ppl so we need 2 know h...</td>\n",
       "      <td>2/22/15 11:58</td>\n",
       "      <td>NaN</td>\n",
       "    </tr>\n",
       "  </tbody>\n",
       "</table>\n",
       "<p>14640 rows × 6 columns</p>\n",
       "</div>"
      ],
      "text/plain": [
       "                 tweet_id         airline           handle  \\\n",
       "0      570306133677760000  Virgin America          cairdin   \n",
       "1      570301130888122000  Virgin America         jnardino   \n",
       "2      570301083672813000  Virgin America       yvonnalynn   \n",
       "3      570301031407624000  Virgin America         jnardino   \n",
       "4      570300817074462000  Virgin America         jnardino   \n",
       "...                   ...             ...              ...   \n",
       "14635  569587686496825000        American  KristenReenders   \n",
       "14636  569587371693355000        American         itsropes   \n",
       "14637  569587242672398000        American         sanyabun   \n",
       "14638  569587188687634000        American       SraJackson   \n",
       "14639  569587140490866000        American        daviddtwu   \n",
       "\n",
       "                                                    text  tweet_created  \\\n",
       "0                    @VirginAmerica What @dhepburn said.  2/24/15 11:35   \n",
       "1      @VirginAmerica plus you've added commercials t...  2/24/15 11:15   \n",
       "2      @VirginAmerica I didn't today... Must mean I n...  2/24/15 11:15   \n",
       "3      @VirginAmerica it's really aggressive to blast...  2/24/15 11:15   \n",
       "4      @VirginAmerica and it's a really big bad thing...  2/24/15 11:14   \n",
       "...                                                  ...            ...   \n",
       "14635  @AmericanAir thank you we got on a different f...  2/22/15 12:01   \n",
       "14636  @AmericanAir leaving over 20 minutes Late Flig...  2/22/15 11:59   \n",
       "14637  @AmericanAir Please bring American Airlines to...  2/22/15 11:59   \n",
       "14638  @AmericanAir you have my money, you change my ...  2/22/15 11:59   \n",
       "14639  @AmericanAir we have 8 ppl so we need 2 know h...  2/22/15 11:58   \n",
       "\n",
       "                    user_timezone  \n",
       "0      Eastern Time (US & Canada)  \n",
       "1      Pacific Time (US & Canada)  \n",
       "2      Central Time (US & Canada)  \n",
       "3      Pacific Time (US & Canada)  \n",
       "4      Pacific Time (US & Canada)  \n",
       "...                           ...  \n",
       "14635                         NaN  \n",
       "14636                         NaN  \n",
       "14637                         NaN  \n",
       "14638  Eastern Time (US & Canada)  \n",
       "14639                         NaN  \n",
       "\n",
       "[14640 rows x 6 columns]"
      ]
     },
     "execution_count": 2,
     "metadata": {},
     "output_type": "execute_result"
    }
   ],
   "source": [
    "df = pd.read_csv(\"../resources/airline_tweets.csv\")\n",
    "df"
   ]
  },
  {
   "cell_type": "markdown",
   "id": "powerful-discussion",
   "metadata": {},
   "source": [
    "# Data Exploration"
   ]
  },
  {
   "cell_type": "markdown",
   "id": "lucky-tuition",
   "metadata": {},
   "source": [
    "## Finding Airlines"
   ]
  },
  {
   "cell_type": "markdown",
   "id": "recognized-token",
   "metadata": {},
   "source": [
    "For this activity, I am given a dataset to work with. However, I do not anything about it or about how it was collected. \n",
    "\n",
    "\n",
    "The data is composed of tweets which are directed towards different airlines. I do not know which specific airlines these are. I will try to find this out in the next section by finding the most mentioned twitter handles."
   ]
  },
  {
   "cell_type": "code",
   "execution_count": 23,
   "id": "eastern-nerve",
   "metadata": {},
   "outputs": [
    {
     "data": {
      "text/plain": [
       "{'@virginamerica': 519,\n",
       " '@ladygaga': 12,\n",
       " '@carrieunderwood': 12,\n",
       " '@southwestair': 2458,\n",
       " '@jetblue': 2248,\n",
       " '@united': 3894,\n",
       " '@americanair': 2961,\n",
       " '@delta': 68,\n",
       " '@usairways': 3000,\n",
       " '@phlairport': 20,\n",
       " '@imaginedragons': 45,\n",
       " '@fortunemagazine': 12,\n",
       " '@love_dragonss': 10,\n",
       " '@wsj': 13,\n",
       " '@dfwairport': 17}"
      ]
     },
     "execution_count": 23,
     "metadata": {},
     "output_type": "execute_result"
    }
   ],
   "source": [
    "# Get twitter handles and the number of mentions\n",
    "twitter_handles_freq = {}\n",
    "tw_handle_regex = re.compile(\"@[\\w]+\")\n",
    "\n",
    "for value in df['text']:\n",
    "    for h in tw_handle_regex.findall(value):\n",
    "        h = h.lower()\n",
    "        twitter_handles_freq[h] = twitter_handles_freq.get(h, 0) + 1\n",
    "        \n",
    "# Remove handles mentioned < 10 times\n",
    "twitter_handles_freq = {k:v for k, v in twitter_handles_freq.items() if v >= 10}\n",
    "twitter_handles_freq"
   ]
  },
  {
   "cell_type": "markdown",
   "id": "compressed-package",
   "metadata": {},
   "source": [
    "Aside from airports, the tweets also have mentions of artists such as Lady Gaga and Carrie Underwood. We remove these to get only the airline names."
   ]
  },
  {
   "cell_type": "code",
   "execution_count": 4,
   "id": "technical-annotation",
   "metadata": {},
   "outputs": [
    {
     "data": {
      "text/plain": [
       "{'@virginamerica': 519,\n",
       " '@southwestair': 2458,\n",
       " '@jetblue': 2248,\n",
       " '@united': 3894,\n",
       " '@americanair': 2961,\n",
       " '@delta': 68,\n",
       " '@usairways': 3000,\n",
       " '@phlairport': 20,\n",
       " '@dfwairport': 17}"
      ]
     },
     "execution_count": 4,
     "metadata": {},
     "output_type": "execute_result"
    }
   ],
   "source": [
    "# Remove non-airlines\n",
    "non_airline_terms = ['@ladygaga', '@carrieunderwood', '@imaginedragons', '@fortunemagazine', '@love_dragonss', '@wsj']\n",
    "for n in non_airport:\n",
    "    try:\n",
    "        twitter_handles_freq.pop(n)\n",
    "    except Exception:\n",
    "        pass\n",
    "twitter_handles_freq"
   ]
  },
  {
   "cell_type": "markdown",
   "id": "regulation-preview",
   "metadata": {},
   "source": [
    "We then create a frequency graph to see the distribution of airline tweets in the corpus. "
   ]
  },
  {
   "cell_type": "code",
   "execution_count": 5,
   "id": "instant-thousand",
   "metadata": {},
   "outputs": [
    {
     "data": {
      "image/png": "[encoded data removed]",
      "text/plain": [
       "<Figure size 864x432 with 1 Axes>"
      ]
     },
     "metadata": {
      "needs_background": "light"
     },
     "output_type": "display_data"
    }
   ],
   "source": [
    "fig, ax = plt.subplots(figsize=(12,6))\n",
    "x = sorted(twitter_handles_freq.keys(), reverse=True)\n",
    "y = sorted(twitter_handles_freq.values(), reverse=True)\n",
    "ax.bar(x, y)\n",
    "ax.set_title(\"Airline Tweet Distribution\")\n",
    "plt.tight_layout()"
   ]
  },
  {
   "cell_type": "markdown",
   "id": "social-murray",
   "metadata": {},
   "source": [
    "It seems that there are 6 main airlines featured in the dataset (from Virgin America to JetBlue).\n",
    "\n",
    "References to other airlines may be due to people comparing services between airlines, as seen below with tweets referring to *@delta*."
   ]
  },
  {
   "cell_type": "code",
   "execution_count": 6,
   "id": "amended-viking",
   "metadata": {},
   "outputs": [
    {
     "name": "stdout",
     "output_type": "stream",
     "text": [
      "@united considering it. Currently gold on @delta. Why should I make the jump for an upcoming flight from SFO to Singapore?\n",
      "@united @delta lost my luggage from ATL to  hdn luggage in denver and said @united will deliver my luggage to HDN airport claim# hdndl11785\n",
      "@SouthwestAir, you're really going to let @delta and @virginamerica get the best of you? http://t.co/vUdWJm1lYB\n",
      "@SouthwestAir why am I still in Baltimore?! @delta is doing laps around us and laughing about it. # ridiculous\n",
      "@JetBlue that's where we all get on the same page. Cancelled Flighted it 45 mins ago. @delta @SouthwestAir help flights from @tfgreenairport to MCO?\n",
      "@usairways Cancelled Flighted and rescheduled. said I'd have to pay $75 for earlier flight at next gate. Today @delta proactively offered same for $0\n",
      "@USAirways 4+ hour hold, finally Cancelled Flighted ticket! sticking to @delta @Expedia who allow easy online Cancelled Flights/refunds! http://t.co/RKVCZBpdCE\n",
      "@USAirways holding 30+ min and listening to your shitty ads on repeat for your credit make me hate your airline even more.  @delta is better\n",
      "@AmericanAir gotta be worse than @delta w/ on time departures.  I rushed back to terminal C for 8:25 flight but they haven't strtd boarding.\n"
     ]
    }
   ],
   "source": [
    "for t in df[df['text'].apply(lambda x: \"@delta\" in x)]['text']:\n",
    "    print(t)"
   ]
  },
  {
   "cell_type": "markdown",
   "id": "damaged-cabinet",
   "metadata": {},
   "source": [
    "# Date Distribution"
   ]
  },
  {
   "cell_type": "code",
   "execution_count": 7,
   "id": "executive-louisiana",
   "metadata": {},
   "outputs": [],
   "source": [
    "# Convert string to datetime object\n",
    "df['tweet_created'] = df['tweet_created'].map(lambda d: datetime.strptime(d, \"%m/%d/%y %H:%M\"))"
   ]
  },
  {
   "cell_type": "code",
   "execution_count": 8,
   "id": "qualified-angola",
   "metadata": {},
   "outputs": [],
   "source": [
    "d = df['tweet_created'].groupby(by=[df[\"tweet_created\"].dt.month, df[\"tweet_created\"].dt.day]).count()"
   ]
  },
  {
   "cell_type": "code",
   "execution_count": 9,
   "id": "accessory-entrepreneur",
   "metadata": {},
   "outputs": [
    {
     "data": {
      "image/png": "[encoded data removed]",
      "text/plain": [
       "<Figure size 720x432 with 1 Axes>"
      ]
     },
     "metadata": {
      "needs_background": "light"
     },
     "output_type": "display_data"
    }
   ],
   "source": [
    "fig, ax = plt.subplots(figsize=(10,6))\n",
    "ax.bar([i[1] for i in d.index], d.values)\n",
    "ax.set_title(\"Tweet Date Distribution (Feb, 2015)\")\n",
    "ax.set_xlabel(\"Day\")\n",
    "ax.set_ylabel(\"Number of Tweets\")\n",
    "plt.tight_layout()"
   ]
  },
  {
   "cell_type": "markdown",
   "id": "associate-sport",
   "metadata": {},
   "source": [
    "The tweets are from 16-24 of February, 2015."
   ]
  },
  {
   "cell_type": "markdown",
   "id": "integral-operations",
   "metadata": {},
   "source": [
    "## Text Cleaning"
   ]
  },
  {
   "cell_type": "markdown",
   "id": "outdoor-dream",
   "metadata": {},
   "source": [
    "We maintain two forms of text, for context-aware and word-level tasks.\n",
    "\n",
    "**Context Aware Tasks**\n",
    "\n",
    "For this, we remove:\n",
    "* Special characters\n",
    "    * Except periods at the end of a sentence, which is important for dependency parsing.\n",
    "* leading and trailing whitespaces\n",
    "* Twitter handles\n",
    "* hashtags\n",
    "\n",
    "**Word-level Tasks:**\n",
    "\n",
    "Same as above, but additionally: \n",
    "* lowercased\n",
    "* lemmatized\n",
    "* stopword-removed\n",
    "* special characters removed\n",
    "\n",
    "\n",
    "\n"
   ]
  },
  {
   "cell_type": "code",
   "execution_count": 12,
   "id": "angry-marketing",
   "metadata": {},
   "outputs": [],
   "source": [
    "def clean_context_level(text: str) -> str:\n",
    "    \"\"\"Clean text.\"\"\"\n",
    "    \n",
    "    # Remove:\n",
    "    \n",
    "    # Twitter handles and hashtags\n",
    "    text = re.sub(\"[#@][\\w]+\", \"\", text)\n",
    "    \n",
    "    # Special characters (except sentence endings)\n",
    "    text = re.sub(\"[^\\w?!\\.,\\s]+\", \"\", text)\n",
    "    \n",
    "    # Extra spaces\n",
    "    text = re.sub(\"\\s+\", \" \", text)  # Multiple consecutive spaces\n",
    "    text = re.sub(\"\\s\\.\", \".\", text)  # Space before period\n",
    "    text = text.strip()  # Leading and trailing whitespaces\n",
    "    \n",
    "    return text\n",
    "\n",
    "\n",
    "def clean_word_level(text: str) -> str:\n",
    "    text = clean_context_level(text)\n",
    "    # lowercase\n",
    "    text = text.lower()\n",
    "    # remove all special chars\n",
    "    text = re.sub(\"[^A-Za-z0-9]+\", \"\")\n",
    "    # remove stopwords\n",
    "\n",
    "    # lemmatize\n",
    "\n",
    "\n",
    "    \n",
    "    \n",
    "    pass"
   ]
  },
  {
   "cell_type": "code",
   "execution_count": 13,
   "id": "floppy-playback",
   "metadata": {},
   "outputs": [
    {
     "data": {
      "text/plain": [
       "0                                               What said.\n",
       "1        plus youve added commercials to the experience...\n",
       "2        I didnt today... Must mean I need to take anot...\n",
       "3        its really aggressive to blast obnoxious enter...\n",
       "4                  and its a really big bad thing about it\n",
       "                               ...                        \n",
       "14635    thank you we got on a different flight to Chic...\n",
       "14636    leaving over 20 minutes Late Flight. No warnin...\n",
       "14637                    Please bring American Airlines to\n",
       "14638    you have my money, you change my flight, and d...\n",
       "14639    we have 8 ppl so we need 2 know how many seats...\n",
       "Name: text, Length: 14640, dtype: object"
      ]
     },
     "execution_count": 13,
     "metadata": {},
     "output_type": "execute_result"
    }
   ],
   "source": [
    "df['text'].map(clean)"
   ]
  },
  {
   "cell_type": "code",
   "execution_count": null,
   "id": "progressive-bachelor",
   "metadata": {},
   "outputs": [],
   "source": [
    "pd.concat([df['text'], ], axis=1)"
   ]
  },
  {
   "cell_type": "code",
   "execution_count": null,
   "id": "banned-sigma",
   "metadata": {},
   "outputs": [],
   "source": []
  }
 ],
 "metadata": {
  "kernelspec": {
   "display_name": "Python 3",
   "language": "python",
   "name": "python3"
  },
  "language_info": {
   "codemirror_mode": {
    "name": "ipython",
    "version": 3
   },
   "file_extension": ".py",
   "mimetype": "text/x-python",
   "name": "python",
   "nbconvert_exporter": "python",
   "pygments_lexer": "ipython3",
   "version": "3.8.5"
  }
 },
 "nbformat": 4,
 "nbformat_minor": 5
}
