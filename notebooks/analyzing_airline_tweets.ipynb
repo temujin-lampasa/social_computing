{
 "cells": [
  {
   "cell_type": "markdown",
   "id": "extra-nicholas",
   "metadata": {},
   "source": [
    "# Quiz/Hands-on: Analyzing airline tweets using NLP"
   ]
  },
  {
   "cell_type": "code",
   "execution_count": 96,
   "id": "literary-estimate",
   "metadata": {},
   "outputs": [],
   "source": [
    "from typing import List\n",
    "import pandas as pd\n",
    "import re\n",
    "\n",
    "from matplotlib import pyplot as plt\n",
    "from datetime import datetime"
   ]
  },
  {
   "cell_type": "code",
   "execution_count": 97,
   "id": "upset-preservation",
   "metadata": {},
   "outputs": [
    {
     "name": "stderr",
     "output_type": "stream",
     "text": [
      "[nltk_data] Downloading package stopwords to /Users/TL/nltk_data...\n",
      "[nltk_data]   Package stopwords is already up-to-date!\n"
     ]
    }
   ],
   "source": [
    "import nltk\n",
    "nltk.download('stopwords')\n",
    "from nltk.corpus import stopwords"
   ]
  },
  {
   "cell_type": "markdown",
   "id": "reverse-summit",
   "metadata": {},
   "source": [
    "# Dataset"
   ]
  },
  {
   "cell_type": "code",
   "execution_count": 98,
   "id": "excess-penalty",
   "metadata": {},
   "outputs": [
    {
     "data": {
      "text/html": [
       "<div>\n",
       "<style scoped>\n",
       "    .dataframe tbody tr th:only-of-type {\n",
       "        vertical-align: middle;\n",
       "    }\n",
       "\n",
       "    .dataframe tbody tr th {\n",
       "        vertical-align: top;\n",
       "    }\n",
       "\n",
       "    .dataframe thead th {\n",
       "        text-align: right;\n",
       "    }\n",
       "</style>\n",
       "<table border=\"1\" class=\"dataframe\">\n",
       "  <thead>\n",
       "    <tr style=\"text-align: right;\">\n",
       "      <th></th>\n",
       "      <th>tweet_id</th>\n",
       "      <th>airline</th>\n",
       "      <th>handle</th>\n",
       "      <th>text</th>\n",
       "      <th>tweet_created</th>\n",
       "      <th>user_timezone</th>\n",
       "    </tr>\n",
       "  </thead>\n",
       "  <tbody>\n",
       "    <tr>\n",
       "      <th>0</th>\n",
       "      <td>570306133677760000</td>\n",
       "      <td>Virgin America</td>\n",
       "      <td>cairdin</td>\n",
       "      <td>@VirginAmerica What @dhepburn said.</td>\n",
       "      <td>2/24/15 11:35</td>\n",
       "      <td>Eastern Time (US &amp; Canada)</td>\n",
       "    </tr>\n",
       "    <tr>\n",
       "      <th>1</th>\n",
       "      <td>570301130888122000</td>\n",
       "      <td>Virgin America</td>\n",
       "      <td>jnardino</td>\n",
       "      <td>@VirginAmerica plus you've added commercials t...</td>\n",
       "      <td>2/24/15 11:15</td>\n",
       "      <td>Pacific Time (US &amp; Canada)</td>\n",
       "    </tr>\n",
       "    <tr>\n",
       "      <th>2</th>\n",
       "      <td>570301083672813000</td>\n",
       "      <td>Virgin America</td>\n",
       "      <td>yvonnalynn</td>\n",
       "      <td>@VirginAmerica I didn't today... Must mean I n...</td>\n",
       "      <td>2/24/15 11:15</td>\n",
       "      <td>Central Time (US &amp; Canada)</td>\n",
       "    </tr>\n",
       "    <tr>\n",
       "      <th>3</th>\n",
       "      <td>570301031407624000</td>\n",
       "      <td>Virgin America</td>\n",
       "      <td>jnardino</td>\n",
       "      <td>@VirginAmerica it's really aggressive to blast...</td>\n",
       "      <td>2/24/15 11:15</td>\n",
       "      <td>Pacific Time (US &amp; Canada)</td>\n",
       "    </tr>\n",
       "    <tr>\n",
       "      <th>4</th>\n",
       "      <td>570300817074462000</td>\n",
       "      <td>Virgin America</td>\n",
       "      <td>jnardino</td>\n",
       "      <td>@VirginAmerica and it's a really big bad thing...</td>\n",
       "      <td>2/24/15 11:14</td>\n",
       "      <td>Pacific Time (US &amp; Canada)</td>\n",
       "    </tr>\n",
       "    <tr>\n",
       "      <th>...</th>\n",
       "      <td>...</td>\n",
       "      <td>...</td>\n",
       "      <td>...</td>\n",
       "      <td>...</td>\n",
       "      <td>...</td>\n",
       "      <td>...</td>\n",
       "    </tr>\n",
       "    <tr>\n",
       "      <th>14635</th>\n",
       "      <td>569587686496825000</td>\n",
       "      <td>American</td>\n",
       "      <td>KristenReenders</td>\n",
       "      <td>@AmericanAir thank you we got on a different f...</td>\n",
       "      <td>2/22/15 12:01</td>\n",
       "      <td>NaN</td>\n",
       "    </tr>\n",
       "    <tr>\n",
       "      <th>14636</th>\n",
       "      <td>569587371693355000</td>\n",
       "      <td>American</td>\n",
       "      <td>itsropes</td>\n",
       "      <td>@AmericanAir leaving over 20 minutes Late Flig...</td>\n",
       "      <td>2/22/15 11:59</td>\n",
       "      <td>NaN</td>\n",
       "    </tr>\n",
       "    <tr>\n",
       "      <th>14637</th>\n",
       "      <td>569587242672398000</td>\n",
       "      <td>American</td>\n",
       "      <td>sanyabun</td>\n",
       "      <td>@AmericanAir Please bring American Airlines to...</td>\n",
       "      <td>2/22/15 11:59</td>\n",
       "      <td>NaN</td>\n",
       "    </tr>\n",
       "    <tr>\n",
       "      <th>14638</th>\n",
       "      <td>569587188687634000</td>\n",
       "      <td>American</td>\n",
       "      <td>SraJackson</td>\n",
       "      <td>@AmericanAir you have my money, you change my ...</td>\n",
       "      <td>2/22/15 11:59</td>\n",
       "      <td>Eastern Time (US &amp; Canada)</td>\n",
       "    </tr>\n",
       "    <tr>\n",
       "      <th>14639</th>\n",
       "      <td>569587140490866000</td>\n",
       "      <td>American</td>\n",
       "      <td>daviddtwu</td>\n",
       "      <td>@AmericanAir we have 8 ppl so we need 2 know h...</td>\n",
       "      <td>2/22/15 11:58</td>\n",
       "      <td>NaN</td>\n",
       "    </tr>\n",
       "  </tbody>\n",
       "</table>\n",
       "<p>14640 rows × 6 columns</p>\n",
       "</div>"
      ],
      "text/plain": [
       "                 tweet_id         airline           handle  \\\n",
       "0      570306133677760000  Virgin America          cairdin   \n",
       "1      570301130888122000  Virgin America         jnardino   \n",
       "2      570301083672813000  Virgin America       yvonnalynn   \n",
       "3      570301031407624000  Virgin America         jnardino   \n",
       "4      570300817074462000  Virgin America         jnardino   \n",
       "...                   ...             ...              ...   \n",
       "14635  569587686496825000        American  KristenReenders   \n",
       "14636  569587371693355000        American         itsropes   \n",
       "14637  569587242672398000        American         sanyabun   \n",
       "14638  569587188687634000        American       SraJackson   \n",
       "14639  569587140490866000        American        daviddtwu   \n",
       "\n",
       "                                                    text  tweet_created  \\\n",
       "0                    @VirginAmerica What @dhepburn said.  2/24/15 11:35   \n",
       "1      @VirginAmerica plus you've added commercials t...  2/24/15 11:15   \n",
       "2      @VirginAmerica I didn't today... Must mean I n...  2/24/15 11:15   \n",
       "3      @VirginAmerica it's really aggressive to blast...  2/24/15 11:15   \n",
       "4      @VirginAmerica and it's a really big bad thing...  2/24/15 11:14   \n",
       "...                                                  ...            ...   \n",
       "14635  @AmericanAir thank you we got on a different f...  2/22/15 12:01   \n",
       "14636  @AmericanAir leaving over 20 minutes Late Flig...  2/22/15 11:59   \n",
       "14637  @AmericanAir Please bring American Airlines to...  2/22/15 11:59   \n",
       "14638  @AmericanAir you have my money, you change my ...  2/22/15 11:59   \n",
       "14639  @AmericanAir we have 8 ppl so we need 2 know h...  2/22/15 11:58   \n",
       "\n",
       "                    user_timezone  \n",
       "0      Eastern Time (US & Canada)  \n",
       "1      Pacific Time (US & Canada)  \n",
       "2      Central Time (US & Canada)  \n",
       "3      Pacific Time (US & Canada)  \n",
       "4      Pacific Time (US & Canada)  \n",
       "...                           ...  \n",
       "14635                         NaN  \n",
       "14636                         NaN  \n",
       "14637                         NaN  \n",
       "14638  Eastern Time (US & Canada)  \n",
       "14639                         NaN  \n",
       "\n",
       "[14640 rows x 6 columns]"
      ]
     },
     "execution_count": 98,
     "metadata": {},
     "output_type": "execute_result"
    }
   ],
   "source": [
    "df = pd.read_csv(\"../resources/airline_tweets.csv\")\n",
    "df"
   ]
  },
  {
   "cell_type": "markdown",
   "id": "positive-bachelor",
   "metadata": {},
   "source": [
    "The dataset consists of tweets on airline experiences.\n",
    "\n",
    "After looking it up online, the dataset seems to be a shortened version of the <a href=\"https://www.kaggle.com/crowdflower/twitter-airline-sentiment\">twitter airline sentiment</a> dataset, available on kaggle or crowdflower.\n",
    "\n",
    "According to the kaggle page,\n",
    "\n",
    "> A sentiment analysis job about the problems of each major U.S. airline. Twitter data was scraped from February of 2015 and contributors were asked to first classify positive, negative, and neutral tweets, followed by categorizing negative reasons (such as \"late flight\" or \"rude service\").\n"
   ]
  },
  {
   "cell_type": "markdown",
   "id": "organizational-roommate",
   "metadata": {},
   "source": [
    "# Goal\n",
    "\n",
    "For this dataset, I wish to figure out people's sentiments towards the different airlines mentioned in the tweets. I want to know the underlying reasons behind those sentiments. What is it about some airlines that people like or dislike?\n",
    "\n",
    "I chose this as the goal since it has some real life merit. Knowing this may be useful so airlines know which aspects they can improve in, and for passengers to know what they may expect when going with a particular airline."
   ]
  },
  {
   "cell_type": "markdown",
   "id": "standing-rider",
   "metadata": {},
   "source": [
    "# Methods\n",
    "\n",
    "In order to fulfill the goals mentioned above, the following steps will be taken:\n",
    "\n",
    "1. **Prepare the data.**\n",
    "2. **Identify the different airlines mentioned in the dataset.**\n",
    "3. **Group together tweets according to airline and find the sentiment for each group.**\n",
    "4. **Attempt to identify the reasons for the sentiments.**"
   ]
  },
  {
   "cell_type": "markdown",
   "id": "emerging-parish",
   "metadata": {},
   "source": [
    "## Data Preparation\n",
    "### Text Cleaning\n",
    "\n",
    "It is best practice to maintain two forms of text, for context-aware and word-level tasks.\n",
    "\n",
    "**Context Aware Tasks**\n",
    "\n",
    "For this, we remove:\n",
    "* Special characters\n",
    "    * Except punctuations at the end of a sentence, which is important for dependency parsing.\n",
    "* leading and trailing whitespaces\n",
    "* Twitter handles\n",
    "* hashtags\n",
    "\n",
    "**Word-level Tasks:**\n",
    "\n",
    "Same as above, but additionally: \n",
    "* lowercased\n",
    "* lemmatized\n",
    "* stopword-removed\n",
    "* special characters removed\n",
    "\n",
    "We also keep the text in its original form."
   ]
  },
  {
   "cell_type": "code",
   "execution_count": 99,
   "id": "subjective-murray",
   "metadata": {},
   "outputs": [],
   "source": [
    "from nltk.stem import WordNetLemmatizer\n",
    "\n",
    "class TextCleaner:\n",
    "    \"\"\"Cleaning functions.\"\"\"\n",
    "    def __init__(self):\n",
    "        self.lemmatizer = WordNetLemmatizer()\n",
    "        self.stop = set(stopwords.words(\"english\"))\n",
    "        \n",
    "    def clean_context_aware(self, text: str) -> str:\n",
    "        \"\"\"Clean text for context-level analysis.\"\"\"\n",
    "\n",
    "        # Remove the ff:\n",
    "        # Twitter handles and hashtags\n",
    "        text = re.sub(\"[#@][\\w]+\", \"\", text)\n",
    "\n",
    "        # Special characters (except sentence endings)\n",
    "        text = re.sub(\"[^\\w?!\\.,\\s]+\", \"\", text)\n",
    "\n",
    "        # Extra spaces\n",
    "        text = re.sub(\"\\s+\", \" \", text)  # Multiple consecutive spaces\n",
    "        text = re.sub(\"\\s\\.\", \".\", text)  # Space before period\n",
    "        text = text.strip()  # Leading and trailing whitespaces\n",
    "\n",
    "        return text\n",
    "        \n",
    "    def clean_word_level(self, text: str) -> str:\n",
    "        \"\"\"Clean text for word-level analysis.\"\"\"\n",
    "        text = clean_context_level(text)\n",
    "        # lowercase\n",
    "        text = text.lower()\n",
    "        # remove all special chars\n",
    "        text = re.sub(\"[^A-Za-z0-9\\s]+\", \"\", text)\n",
    "        # remove stopwords and lemmatize\n",
    "        tokens = text.split()\n",
    "        tokens = [t for t in tokens if t not in self.stop]\n",
    "        tokens = [self.lemmatizer.lemmatize(t) for t in tokens]\n",
    "        return ' '.join(tokens)"
   ]
  },
  {
   "cell_type": "code",
   "execution_count": 100,
   "id": "empty-heritage",
   "metadata": {},
   "outputs": [
    {
     "data": {
      "text/html": [
       "<div>\n",
       "<style scoped>\n",
       "    .dataframe tbody tr th:only-of-type {\n",
       "        vertical-align: middle;\n",
       "    }\n",
       "\n",
       "    .dataframe tbody tr th {\n",
       "        vertical-align: top;\n",
       "    }\n",
       "\n",
       "    .dataframe thead th {\n",
       "        text-align: right;\n",
       "    }\n",
       "</style>\n",
       "<table border=\"1\" class=\"dataframe\">\n",
       "  <thead>\n",
       "    <tr style=\"text-align: right;\">\n",
       "      <th></th>\n",
       "      <th>text</th>\n",
       "      <th>text_context</th>\n",
       "      <th>text_word</th>\n",
       "    </tr>\n",
       "  </thead>\n",
       "  <tbody>\n",
       "    <tr>\n",
       "      <th>0</th>\n",
       "      <td>@VirginAmerica What @dhepburn said.</td>\n",
       "      <td>What said.</td>\n",
       "      <td>said</td>\n",
       "    </tr>\n",
       "    <tr>\n",
       "      <th>1</th>\n",
       "      <td>@VirginAmerica plus you've added commercials t...</td>\n",
       "      <td>plus youve added commercials to the experience...</td>\n",
       "      <td>plus youve added commercial experience tacky</td>\n",
       "    </tr>\n",
       "    <tr>\n",
       "      <th>2</th>\n",
       "      <td>@VirginAmerica I didn't today... Must mean I n...</td>\n",
       "      <td>I didnt today... Must mean I need to take anot...</td>\n",
       "      <td>didnt today must mean need take another trip</td>\n",
       "    </tr>\n",
       "    <tr>\n",
       "      <th>3</th>\n",
       "      <td>@VirginAmerica it's really aggressive to blast...</td>\n",
       "      <td>its really aggressive to blast obnoxious enter...</td>\n",
       "      <td>really aggressive blast obnoxious entertainmen...</td>\n",
       "    </tr>\n",
       "    <tr>\n",
       "      <th>4</th>\n",
       "      <td>@VirginAmerica and it's a really big bad thing...</td>\n",
       "      <td>and its a really big bad thing about it</td>\n",
       "      <td>really big bad thing</td>\n",
       "    </tr>\n",
       "    <tr>\n",
       "      <th>...</th>\n",
       "      <td>...</td>\n",
       "      <td>...</td>\n",
       "      <td>...</td>\n",
       "    </tr>\n",
       "    <tr>\n",
       "      <th>14635</th>\n",
       "      <td>@AmericanAir thank you we got on a different f...</td>\n",
       "      <td>thank you we got on a different flight to Chic...</td>\n",
       "      <td>thank got different flight chicago</td>\n",
       "    </tr>\n",
       "    <tr>\n",
       "      <th>14636</th>\n",
       "      <td>@AmericanAir leaving over 20 minutes Late Flig...</td>\n",
       "      <td>leaving over 20 minutes Late Flight. No warnin...</td>\n",
       "      <td>leaving 20 minute late flight warning communic...</td>\n",
       "    </tr>\n",
       "    <tr>\n",
       "      <th>14637</th>\n",
       "      <td>@AmericanAir Please bring American Airlines to...</td>\n",
       "      <td>Please bring American Airlines to</td>\n",
       "      <td>please bring american airline</td>\n",
       "    </tr>\n",
       "    <tr>\n",
       "      <th>14638</th>\n",
       "      <td>@AmericanAir you have my money, you change my ...</td>\n",
       "      <td>you have my money, you change my flight, and d...</td>\n",
       "      <td>money change flight dont answer phone suggesti...</td>\n",
       "    </tr>\n",
       "    <tr>\n",
       "      <th>14639</th>\n",
       "      <td>@AmericanAir we have 8 ppl so we need 2 know h...</td>\n",
       "      <td>we have 8 ppl so we need 2 know how many seats...</td>\n",
       "      <td>8 ppl need 2 know many seat next flight plz pu...</td>\n",
       "    </tr>\n",
       "  </tbody>\n",
       "</table>\n",
       "<p>14640 rows × 3 columns</p>\n",
       "</div>"
      ],
      "text/plain": [
       "                                                    text  \\\n",
       "0                    @VirginAmerica What @dhepburn said.   \n",
       "1      @VirginAmerica plus you've added commercials t...   \n",
       "2      @VirginAmerica I didn't today... Must mean I n...   \n",
       "3      @VirginAmerica it's really aggressive to blast...   \n",
       "4      @VirginAmerica and it's a really big bad thing...   \n",
       "...                                                  ...   \n",
       "14635  @AmericanAir thank you we got on a different f...   \n",
       "14636  @AmericanAir leaving over 20 minutes Late Flig...   \n",
       "14637  @AmericanAir Please bring American Airlines to...   \n",
       "14638  @AmericanAir you have my money, you change my ...   \n",
       "14639  @AmericanAir we have 8 ppl so we need 2 know h...   \n",
       "\n",
       "                                            text_context  \\\n",
       "0                                             What said.   \n",
       "1      plus youve added commercials to the experience...   \n",
       "2      I didnt today... Must mean I need to take anot...   \n",
       "3      its really aggressive to blast obnoxious enter...   \n",
       "4                and its a really big bad thing about it   \n",
       "...                                                  ...   \n",
       "14635  thank you we got on a different flight to Chic...   \n",
       "14636  leaving over 20 minutes Late Flight. No warnin...   \n",
       "14637                  Please bring American Airlines to   \n",
       "14638  you have my money, you change my flight, and d...   \n",
       "14639  we have 8 ppl so we need 2 know how many seats...   \n",
       "\n",
       "                                               text_word  \n",
       "0                                                   said  \n",
       "1           plus youve added commercial experience tacky  \n",
       "2           didnt today must mean need take another trip  \n",
       "3      really aggressive blast obnoxious entertainmen...  \n",
       "4                                   really big bad thing  \n",
       "...                                                  ...  \n",
       "14635                 thank got different flight chicago  \n",
       "14636  leaving 20 minute late flight warning communic...  \n",
       "14637                      please bring american airline  \n",
       "14638  money change flight dont answer phone suggesti...  \n",
       "14639  8 ppl need 2 know many seat next flight plz pu...  \n",
       "\n",
       "[14640 rows x 3 columns]"
      ]
     },
     "execution_count": 100,
     "metadata": {},
     "output_type": "execute_result"
    }
   ],
   "source": [
    "cleaner = TextCleaner()\n",
    "df['text_context'] = df['text'].map(cleaner.clean_context_aware)\n",
    "df['text_word'] = df['text'].map(cleaner.clean_word_level)\n",
    "df[['text', 'text_context', 'text_word']]"
   ]
  },
  {
   "cell_type": "markdown",
   "id": "sublime-genesis",
   "metadata": {},
   "source": [
    "# Data Exploration"
   ]
  },
  {
   "cell_type": "markdown",
   "id": "played-gibson",
   "metadata": {},
   "source": [
    "## Finding Airlines"
   ]
  },
  {
   "cell_type": "markdown",
   "id": "interstate-range",
   "metadata": {},
   "source": [
    "I know that the data is composed of tweets on different airlines. However, I do not know which specific airlines these are. I will try to find this out in the next section by checking the twitter handles mentioned in the text."
   ]
  },
  {
   "cell_type": "code",
   "execution_count": 117,
   "id": "governing-israeli",
   "metadata": {},
   "outputs": [
    {
     "data": {
      "text/plain": [
       "{'@virginamerica': 519,\n",
       " '@southwestair': 2458,\n",
       " '@jetblue': 2248,\n",
       " '@united': 3894,\n",
       " '@americanair': 2961,\n",
       " '@usairways': 3000}"
      ]
     },
     "execution_count": 117,
     "metadata": {},
     "output_type": "execute_result"
    }
   ],
   "source": [
    "# Get twitter handles and the number of mentions\n",
    "twitter_handles_freq = {}\n",
    "tw_handle_regex = re.compile(\"@[\\w]+\")\n",
    "\n",
    "for text in df['text']:\n",
    "    for handle in tw_handle_regex.findall(text):\n",
    "        handle = handle.lower()\n",
    "        twitter_handles_freq[handle] = twitter_handles_freq.get(handle, 0) + 1\n",
    "        \n",
    "twitter_handles_freq\n",
    "# Remove handles mentioned < 100 times\n",
    "twitter_handles_freq = {k:v for k, v in twitter_handles_freq.items() if v >= 100}\n",
    "twitter_handles_freq"
   ]
  },
  {
   "cell_type": "markdown",
   "id": "latter-arthur",
   "metadata": {},
   "source": [
    "We then create a frequency graph to see the distribution of airline tweets in the corpus. "
   ]
  },
  {
   "cell_type": "code",
   "execution_count": 118,
   "id": "technological-principal",
   "metadata": {},
   "outputs": [
    {
     "data": {
      "image/png": "[encoded data removed]",
      "text/plain": [
       "<Figure size 864x432 with 1 Axes>"
      ]
     },
     "metadata": {
      "needs_background": "light"
     },
     "output_type": "display_data"
    }
   ],
   "source": [
    "fig, ax = plt.subplots(figsize=(12,6))\n",
    "x = sorted(twitter_handles_freq.keys(), reverse=True)\n",
    "y = sorted(twitter_handles_freq.values(), reverse=True)\n",
    "ax.bar(x, y)\n",
    "ax.set_title(\"Airline Tweet Distribution\")\n",
    "plt.tight_layout()"
   ]
  },
  {
   "cell_type": "markdown",
   "id": "vocal-black",
   "metadata": {},
   "source": [
    "It seems that there are 6 main airlines featured in the dataset."
   ]
  },
  {
   "cell_type": "markdown",
   "id": "secret-channel",
   "metadata": {},
   "source": [
    "# Date Distribution"
   ]
  },
  {
   "cell_type": "code",
   "execution_count": 7,
   "id": "british-ecuador",
   "metadata": {},
   "outputs": [],
   "source": [
    "# Convert string to datetime object\n",
    "df['tweet_created'] = df['tweet_created'].map(lambda d: datetime.strptime(d, \"%m/%d/%y %H:%M\"))"
   ]
  },
  {
   "cell_type": "code",
   "execution_count": 8,
   "id": "atomic-person",
   "metadata": {},
   "outputs": [],
   "source": [
    "d = df['tweet_created'].groupby(by=[df[\"tweet_created\"].dt.month, df[\"tweet_created\"].dt.day]).count()"
   ]
  },
  {
   "cell_type": "code",
   "execution_count": 9,
   "id": "signed-promise",
   "metadata": {},
   "outputs": [
    {
     "data": {
      "image/png": "[encoded data removed]",
      "text/plain": [
       "<Figure size 720x432 with 1 Axes>"
      ]
     },
     "metadata": {
      "needs_background": "light"
     },
     "output_type": "display_data"
    }
   ],
   "source": [
    "fig, ax = plt.subplots(figsize=(10,6))\n",
    "ax.bar([i[1] for i in d.index], d.values)\n",
    "ax.set_title(\"Tweet Date Distribution (Feb, 2015)\")\n",
    "ax.set_xlabel(\"Day\")\n",
    "ax.set_ylabel(\"Number of Tweets\")\n",
    "plt.tight_layout()"
   ]
  },
  {
   "cell_type": "markdown",
   "id": "golden-guard",
   "metadata": {},
   "source": [
    "The tweets are from 16-24 of February, 2015."
   ]
  }
 ],
 "metadata": {
  "kernelspec": {
   "display_name": "Python 3",
   "language": "python",
   "name": "python3"
  },
  "language_info": {
   "codemirror_mode": {
    "name": "ipython",
    "version": 3
   },
   "file_extension": ".py",
   "mimetype": "text/x-python",
   "name": "python",
   "nbconvert_exporter": "python",
   "pygments_lexer": "ipython3",
   "version": "3.8.5"
  }
 },
 "nbformat": 4,
 "nbformat_minor": 5
}
