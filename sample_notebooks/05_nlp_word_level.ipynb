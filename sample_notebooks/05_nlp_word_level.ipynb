{
  "nbformat": 4,
  "nbformat_minor": 5,
  "metadata": {
    "kernelspec": {
      "display_name": "csci161",
      "language": "python",
      "name": "csci161"
    },
    "language_info": {
      "codemirror_mode": {
        "name": "ipython",
        "version": 3
      },
      "file_extension": ".py",
      "mimetype": "text/x-python",
      "name": "python",
      "nbconvert_exporter": "python",
      "pygments_lexer": "ipython3",
      "version": "3.9.6"
    },
    "colab": {
      "name": "05_nlp_word_level.ipynb",
      "provenance": []
    }
  },
  "cells": [
    {
      "cell_type": "markdown",
      "metadata": {
        "id": "bd5e8a14-0b86-4b67-8501-5eb564eff172"
      },
      "source": [
        "# Natural Language Processing: Word-level Tasks\n",
        "\n",
        "Hi everyone! Today, we're exploring natural language processing. We'll be taking a look at word-level NLP problems, features that we can extract at a word-level, and common word-level tasks such as dictionary-based sentiment analysis. "
      ],
      "id": "bd5e8a14-0b86-4b67-8501-5eb564eff172"
    },
    {
      "cell_type": "markdown",
      "metadata": {
        "id": "5bed2c78-338e-4bb2-af98-6008b172fb95"
      },
      "source": [
        "### WordNet lemmas and stems "
      ],
      "id": "5bed2c78-338e-4bb2-af98-6008b172fb95"
    },
    {
      "cell_type": "code",
      "metadata": {
        "id": "f2ca38ab-7bf6-4bfb-b8d2-51ca3b3ec9be"
      },
      "source": [
        "# Import the lemmatizer and stemmer that uses the WordNet lexical resource\n",
        "from nltk.stem.wordnet import WordNetLemmatizer\n",
        "from nltk.stem import PorterStemmer, LancasterStemmer\n",
        "wnl = WordNetLemmatizer()\n",
        "ps = PorterStemmer()\n",
        "ls = LancasterStemmer()"
      ],
      "id": "f2ca38ab-7bf6-4bfb-b8d2-51ca3b3ec9be",
      "execution_count": null,
      "outputs": []
    },
    {
      "cell_type": "code",
      "metadata": {
        "id": "8b092385-f463-43f9-8717-f8bca2e92015"
      },
      "source": [
        "# Lemmatize words (uses known grammar rules)\n",
        "print(wnl.lemmatize('corpus')) # Already in root form\n",
        "print(wnl.lemmatize('corpora')) # Root is corpus"
      ],
      "id": "8b092385-f463-43f9-8717-f8bca2e92015",
      "execution_count": null,
      "outputs": []
    },
    {
      "cell_type": "code",
      "metadata": {
        "id": "d5b72041-1488-49c5-b5e4-7c19f83d8333"
      },
      "source": [
        "# Lemmatization might not be good for proper nouns\n",
        "wnl.lemmatize('Alexas')"
      ],
      "id": "d5b72041-1488-49c5-b5e4-7c19f83d8333",
      "execution_count": null,
      "outputs": []
    },
    {
      "cell_type": "code",
      "metadata": {
        "id": "532ee6ce-e992-4749-9341-4b3fa1d4a298"
      },
      "source": [
        "# Stem words using PorterStemmer (uses suffix stripping) \n",
        "print(ps.stem('corpus')) # Removes the 's'\n",
        "print(ps.stem('corpora')) # Does not change\n",
        "print(ps.stem('destabilized'))"
      ],
      "id": "532ee6ce-e992-4749-9341-4b3fa1d4a298",
      "execution_count": null,
      "outputs": []
    },
    {
      "cell_type": "code",
      "metadata": {
        "id": "59b69cae-fe07-482e-aa02-bf10451392a7"
      },
      "source": [
        "# Stemming can be appropriate for finding the root word of proper nouns\n",
        "ps.stem(\"Alexas\")"
      ],
      "id": "59b69cae-fe07-482e-aa02-bf10451392a7",
      "execution_count": null,
      "outputs": []
    },
    {
      "cell_type": "code",
      "metadata": {
        "id": "c3d05af7-5913-40af-a161-255db02b720a"
      },
      "source": [
        "# Stem words using LancasterStemmer (uses rules-based algorithm stripping)\n",
        "print(ls.stem('corpus'))\n",
        "print(ls.stem('corpora'))\n",
        "print(ls.stem('destabilized'))"
      ],
      "id": "c3d05af7-5913-40af-a161-255db02b720a",
      "execution_count": null,
      "outputs": []
    },
    {
      "cell_type": "markdown",
      "metadata": {
        "id": "fedc7b64-9976-47c6-b062-c6fa32ad2b72"
      },
      "source": [
        "### WordNet synsets"
      ],
      "id": "fedc7b64-9976-47c6-b062-c6fa32ad2b72"
    },
    {
      "cell_type": "code",
      "metadata": {
        "id": "aee3145c-438b-4e2b-9781-24a1467b08be"
      },
      "source": [
        "# Retrieve the synset of \"plane\" from WordNet\n",
        "from nltk.corpus import wordnet\n",
        "plane = wordnet.synsets('plane')\n",
        "plane"
      ],
      "id": "aee3145c-438b-4e2b-9781-24a1467b08be",
      "execution_count": null,
      "outputs": []
    },
    {
      "cell_type": "code",
      "metadata": {
        "id": "8606886e-55e3-4862-ab33-a5b8e7d49185"
      },
      "source": [
        "# Retrieve the first definition of \"plane\"\n",
        "plane[0].definition()"
      ],
      "id": "8606886e-55e3-4862-ab33-a5b8e7d49185",
      "execution_count": null,
      "outputs": []
    },
    {
      "cell_type": "code",
      "metadata": {
        "id": "eba50110-4873-46e6-8c31-17e8013a9174"
      },
      "source": [
        "# Use the first definition of \"plane\" in a sentence\n",
        "plane[0].examples()"
      ],
      "id": "eba50110-4873-46e6-8c31-17e8013a9174",
      "execution_count": null,
      "outputs": []
    },
    {
      "cell_type": "code",
      "metadata": {
        "id": "56086302-1fe9-4390-9445-1e767caaa6ff"
      },
      "source": [
        "# Get related names to the first definition of \"plane\"\n",
        "plane[0].lemma_names()"
      ],
      "id": "56086302-1fe9-4390-9445-1e767caaa6ff",
      "execution_count": null,
      "outputs": []
    },
    {
      "cell_type": "code",
      "metadata": {
        "id": "1bc068f3-414d-4afe-b35c-f0f4affd8b6d"
      },
      "source": [
        "# Get the part-of-speech of the first definition of \"plane\"\n",
        "plane[0].pos()\n",
        "# 'n' is short for noun"
      ],
      "id": "1bc068f3-414d-4afe-b35c-f0f4affd8b6d",
      "execution_count": null,
      "outputs": []
    },
    {
      "cell_type": "code",
      "metadata": {
        "id": "4652d310-cef1-4eb8-b945-b24655d843ac"
      },
      "source": [
        "# We can get different synonyms of plane and their corresponding attributes\n",
        "print(plane[4].definition())\n",
        "print(plane[4].examples())\n",
        "print(plane[4].lemma_names())"
      ],
      "id": "4652d310-cef1-4eb8-b945-b24655d843ac",
      "execution_count": null,
      "outputs": []
    },
    {
      "cell_type": "markdown",
      "metadata": {
        "id": "968dfd68-0964-4b45-86e2-13087a98becf"
      },
      "source": [
        "### WordNet word similarity \n",
        "\n",
        "Path similarity denotes the similarity between two word senses based on the shortest path that connects the senses in the is-a (hypernym/hypnoym) taxonomy."
      ],
      "id": "968dfd68-0964-4b45-86e2-13087a98becf"
    },
    {
      "cell_type": "code",
      "metadata": {
        "id": "be9e6aa7-bb6f-42b2-906e-776f74bdce14"
      },
      "source": [
        "dog = wordnet.synsets('dog')[0]\n",
        "cat = wordnet.synsets('cat')[0]\n",
        "terrier = wordnet.synsets('terrier')[0]"
      ],
      "id": "be9e6aa7-bb6f-42b2-906e-776f74bdce14",
      "execution_count": null,
      "outputs": []
    },
    {
      "cell_type": "code",
      "metadata": {
        "id": "0453848c-0718-4d92-a1ad-b9694dc66da4"
      },
      "source": [
        "# Similarity between \"dog\" and \"cat\"\n",
        "dog.path_similarity(cat)"
      ],
      "id": "0453848c-0718-4d92-a1ad-b9694dc66da4",
      "execution_count": null,
      "outputs": []
    },
    {
      "cell_type": "code",
      "metadata": {
        "id": "d2ed71e2-2506-4643-916b-92930a662dfa"
      },
      "source": [
        "# Similarity between \"dod\" and \"terrier\"\n",
        "dog.path_similarity(terrier)"
      ],
      "id": "d2ed71e2-2506-4643-916b-92930a662dfa",
      "execution_count": null,
      "outputs": []
    },
    {
      "cell_type": "markdown",
      "metadata": {
        "id": "dcfa68ea-0cb7-4b5d-9d1c-e56a566bc595"
      },
      "source": [
        "### SentiWordNet sentiment analysis"
      ],
      "id": "dcfa68ea-0cb7-4b5d-9d1c-e56a566bc595"
    },
    {
      "cell_type": "code",
      "metadata": {
        "id": "4d47dc3a-3f06-4ab7-b989-e89d7083dabd"
      },
      "source": [
        "from nltk.corpus import sentiwordnet\n",
        "word = sentiwordnet.senti_synsets('happy')\n",
        "word = list(word)[0]\n",
        "word"
      ],
      "id": "4d47dc3a-3f06-4ab7-b989-e89d7083dabd",
      "execution_count": null,
      "outputs": []
    },
    {
      "cell_type": "code",
      "metadata": {
        "id": "42d723fd-93cd-4f2e-b4a5-5399c9248d2a"
      },
      "source": [
        "print(\"Positive:\", word.pos_score())\n",
        "print(\"Negative:\", word.neg_score())\n",
        "print(\"Objective:\", word.obj_score())"
      ],
      "id": "42d723fd-93cd-4f2e-b4a5-5399c9248d2a",
      "execution_count": null,
      "outputs": []
    }
  ]
}